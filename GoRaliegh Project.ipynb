{
 "cells": [
  {
   "cell_type": "markdown",
   "metadata": {},
   "source": [
    "<center>\n",
    "    <img src=\"https://cf-courses-data.s3.us.cloud-object-storage.appdomain.cloud/IBMDeveloperSkillsNetwork-DS0105EN-SkillsNetwork/labs/Module2/images/SN_web_lightmode.png\" width=\"300\" alt=\"cognitiveclass.ai logo\">\n",
    "</center>\n"
   ]
  },
  {
   "cell_type": "markdown",
   "metadata": {},
   "source": [
    "#### Add your code below following the instructions given in the course\n"
   ]
  },
  {
   "cell_type": "markdown",
   "metadata": {},
   "source": [
    "# My Jupyter Notebook on IBM Watson Studio"
   ]
  },
  {
   "cell_type": "markdown",
   "metadata": {},
   "source": [
    "**Victoria Pirillo** \n",
    "\n",
    "Healthcare Analyst"
   ]
  },
  {
   "cell_type": "markdown",
   "metadata": {},
   "source": [
    "_I am interested in data science because of the knowledge gained from the research. When working on escalated issues in customer support finding the root cause is always my goal._"
   ]
  },
  {
   "cell_type": "code",
   "execution_count": 5,
   "metadata": {},
   "outputs": [
    {
     "data": {
      "text/plain": [
       "5"
      ]
     },
     "execution_count": 5,
     "metadata": {},
     "output_type": "execute_result"
    }
   ],
   "source": [
    "1 + 1 + 1 + 1 + 1"
   ]
  },
  {
   "cell_type": "markdown",
   "metadata": {},
   "source": [
    "### Analyzes GoRaliegh Bus Routes"
   ]
  },
  {
   "cell_type": "markdown",
   "metadata": {},
   "source": [
    "GoRaleigh offers 5 bus lines for commuters - Listed by street name in the bulleted list below\n",
    "\n",
    " - Biltmore Hills outbound\n",
    "     - Biltmore Hills inbound\n",
    " - Glascock outbound\n",
    "     - Glascock inbound\n",
    " - Trawick northbound\n",
    "\n",
    "Colons can be used to align columns. Table below\n",
    "\n",
    "| Bus        | Route           | Traveling  |\n",
    "| ------------- |:-------------:| -----:|\n",
    "| col 1 is bus      | Biltmore Hills | Outbound |\n",
    "| col 2 is route      | Glascock      |   Outbound |\n",
    "| col 3 is traveling | Trawick      |    Northbound |\n",
    "\n",
    "Inline markdown table - sperated by 3 columns\n",
    "\n",
    "Bus | Route | Traveling\n",
    "--- | --- | ---\n",
    "*Col 1* | `Col 2` | **Col 3**\n",
    "1 | 2 | 3\n",
    "\n",
    "\n",
    "\n",
    "<a href=\"https://goraleigh.org/sites/default/files/goraleigh-logo.jpg\" target=\"_blank\" rel=\"noopener noreferrer\">**GoRaleigh Transit**</a>\n",
    "\n",
    "<a href=\"https://goraleigh.org/sites/default/files/goraleigh-logo.jpg\">GoRaleigh Transit</a> \n",
    "\n",
    "\n",
    "\n",
    "Here's our logo (hover to see the title text):\n",
    "\n",
    "Inline-style: \n",
    "![alt text](https://goraleigh.org/sites/default/files/goraleigh-logo.jpg \"GoRaleigh Transit\")\n",
    "\n",
    "Reference-style: \n",
    "![alt text][logo]\n",
    "\n",
    "[logo]: https://goraleigh.org/sites/default/files/goraleigh-logo.jpg \"GoRaleigh Transit\""
   ]
  },
  {
   "cell_type": "code",
   "execution_count": null,
   "metadata": {},
   "outputs": [],
   "source": []
  }
 ],
 "metadata": {
  "kernelspec": {
   "display_name": "Python",
   "language": "python",
   "name": "conda-env-python-py"
  },
  "language_info": {
   "codemirror_mode": {
    "name": "ipython",
    "version": 3
   },
   "file_extension": ".py",
   "mimetype": "text/x-python",
   "name": "python",
   "nbconvert_exporter": "python",
   "pygments_lexer": "ipython3",
   "version": "3.7.12"
  }
 },
 "nbformat": 4,
 "nbformat_minor": 4
}
